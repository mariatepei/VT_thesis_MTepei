{
 "cells": [
  {
   "cell_type": "code",
   "execution_count": 1,
   "id": "6cb07c0c",
   "metadata": {},
   "outputs": [],
   "source": [
    "import os\n",
    "import glob\n",
    "import jiwer\n",
    "from jiwer import cer, wer\n",
    "import math\n",
    "from statistics import mean, stdev\n",
    "from matplotlib import pyplot as plt\n",
    "import numpy as np\n",
    "from scipy.stats import norm, ttest_ind, ttest_rel, wilcoxon, mannwhitneyu"
   ]
  },
  {
   "cell_type": "code",
   "execution_count": 3,
   "id": "15270508",
   "metadata": {},
   "outputs": [
    {
     "name": "stdout",
     "output_type": "stream",
     "text": [
      "Current working directory: C:\\Users\\maria\\Desktop\\MSc Voice Technology\\Term 2B - THESIS\\whisper-related scripts\\fine-tuned_condition\n"
     ]
    }
   ],
   "source": [
    "print(\"Current working directory:\", os.getcwd())\n",
    "\n",
    "# read ground truth files\n",
    "with open(\"data/ground_truth_1.txt\", \"r\", encoding=\"utf-8\") as f:\n",
    "    ground_truth_1 = f.readlines()\n",
    "with open(\"data/ground_truth_2.txt\", \"r\", encoding=\"utf-8\") as f:\n",
    "    ground_truth_2 = f.readlines()\n",
    "\n",
    "# read baseline native files (they use ground truth 2)\n",
    "with open(\"data/bl_base_n_2.txt\", \"r\", encoding=\"utf-8\") as f:\n",
    "    bl_base_n_2 = f.readlines()\n",
    "with open(\"data/bl_small_n_2.txt\", \"r\", encoding=\"utf-8\") as f:\n",
    "    bl_small_n_2 = f.readlines()\n",
    "with open(\"data/bl_medium_n_2.txt\", \"r\", encoding=\"utf-8\") as f:\n",
    "    bl_medium_n_2 = f.readlines()\n",
    "with open(\"data/bl_large_n_2.txt\", \"r\", encoding=\"utf-8\") as f:\n",
    "    bl_large_n_2 = f.readlines()\n",
    "    \n",
    "# read baseline accented files (they use ground truth 1)\n",
    "with open(\"data/bl_base_a_1.txt\", \"r\", encoding=\"utf-8\") as f:\n",
    "    bl_base_a_1 = f.readlines()\n",
    "with open(\"data/bl_small_a_1.txt\", \"r\", encoding=\"utf-8\") as f:\n",
    "    bl_small_a_1 = f.readlines()\n",
    "with open(\"data/bl_medium_a_1.txt\", \"r\", encoding=\"utf-8\") as f:\n",
    "    bl_medium_a_1 = f.readlines()\n",
    "with open(\"data/bl_large_a_1.txt\", \"r\", encoding=\"utf-8\") as f:\n",
    "    bl_large_a_1 = f.readlines()\n",
    "    \n",
    "# read fine-tuned native files (they use ground truth 1)\n",
    "with open(\"data/ft_base_n_1.txt\", \"r\", encoding=\"utf-8\") as f:\n",
    "    ft_base_n_1 = f.readlines()\n",
    "with open(\"data/ft_small_n_1.txt\", \"r\", encoding=\"utf-8\") as f:\n",
    "    ft_small_n_1 = f.readlines()\n",
    "with open(\"data/ft_medium_n_1.txt\", \"r\", encoding=\"utf-8\") as f:\n",
    "    ft_medium_n_1 = f.readlines()\n",
    "with open(\"data/ft_large_n_1.txt\", \"r\", encoding=\"utf-8\") as f:\n",
    "    ft_large_n_1 = f.readlines()\n",
    "    \n",
    "# read fine-tuned accented files (they use ground truth 1)\n",
    "with open(\"data/ft_base_a_1.txt\", \"r\", encoding=\"utf-8\") as f:\n",
    "    ft_base_a_1 = f.readlines()\n",
    "with open(\"data/ft_small_a_1.txt\", \"r\", encoding=\"utf-8\") as f:\n",
    "    ft_small_a_1 = f.readlines()\n",
    "with open(\"data/ft_medium_a_1.txt\", \"r\", encoding=\"utf-8\") as f:\n",
    "    ft_medium_a_1 = f.readlines()\n",
    "with open(\"data/ft_large_a_1.txt\", \"r\", encoding=\"utf-8\") as f:\n",
    "    ft_large_a_1 = f.readlines()"
   ]
  },
  {
   "cell_type": "code",
   "execution_count": 16,
   "id": "02f00de4",
   "metadata": {},
   "outputs": [],
   "source": [
    "# calculate WER for baseline native (wrt ground truth 2)\n",
    "dataInput = [bl_base_n_2, bl_small_n_2, bl_medium_n_2, bl_large_n_2]\n",
    "use_ground_truth = ground_truth_2\n",
    "wer_bl_n = np.zeros((np.size(use_ground_truth),4))\n",
    "iteration = 0\n",
    "for m in dataInput:\n",
    "    line_no = 0\n",
    "    cer_scores = []\n",
    "    wer_scores = []\n",
    "    for line in m:\n",
    "        reference = use_ground_truth[line_no]\n",
    "        hypothesis = line\n",
    "        char_error = cer(reference, hypothesis)\n",
    "        word_error = wer(reference, hypothesis)\n",
    "        cer_scores.append(char_error)\n",
    "        wer_scores.append(word_error)\n",
    "        line_no += 1\n",
    "    wer_bl_n[:,iteration] = wer_scores\n",
    "    iteration += 1"
   ]
  },
  {
   "cell_type": "code",
   "execution_count": 17,
   "id": "86c07cf4",
   "metadata": {},
   "outputs": [],
   "source": [
    "# calculate WER for baseline accented (wrt ground truth 1)\n",
    "dataInput = [bl_base_a_1, bl_small_a_1, bl_medium_a_1, bl_large_a_1]\n",
    "use_ground_truth = ground_truth_1\n",
    "wer_bl_a = np.zeros((np.size(use_ground_truth),4))\n",
    "iteration = 0\n",
    "for m in dataInput:\n",
    "    line_no = 0\n",
    "    cer_scores = []\n",
    "    wer_scores = []\n",
    "    for line in m:\n",
    "        reference = use_ground_truth[line_no]\n",
    "        hypothesis = line\n",
    "        char_error = cer(reference, hypothesis)\n",
    "        word_error = wer(reference, hypothesis)\n",
    "        cer_scores.append(char_error)\n",
    "        wer_scores.append(word_error)\n",
    "        line_no += 1\n",
    "    wer_bl_a[:,iteration] = wer_scores\n",
    "    iteration += 1"
   ]
  },
  {
   "cell_type": "code",
   "execution_count": 18,
   "id": "4efede35",
   "metadata": {},
   "outputs": [],
   "source": [
    "# calculate WER for fine-tuned native (wrt ground truth 1)\n",
    "dataInput = [ft_base_n_1, ft_small_n_1, ft_medium_n_1, ft_large_n_1]\n",
    "use_ground_truth = ground_truth_1\n",
    "wer_ft_n = np.zeros((np.size(use_ground_truth),4))\n",
    "iteration = 0\n",
    "for m in dataInput:\n",
    "    line_no = 0\n",
    "    cer_scores = []\n",
    "    wer_scores = []\n",
    "    for line in m:\n",
    "        reference = use_ground_truth[line_no]\n",
    "        hypothesis = line\n",
    "        char_error = cer(reference, hypothesis)\n",
    "        word_error = wer(reference, hypothesis)\n",
    "        cer_scores.append(char_error)\n",
    "        wer_scores.append(word_error)\n",
    "        line_no += 1\n",
    "    wer_ft_n[:,iteration] = wer_scores\n",
    "    iteration += 1"
   ]
  },
  {
   "cell_type": "code",
   "execution_count": 19,
   "id": "4c90242a",
   "metadata": {},
   "outputs": [],
   "source": [
    "# calculate WER for fine-tuned accented (wrt ground truth 1)\n",
    "dataInput = [ft_base_a_1, ft_small_a_1, ft_medium_a_1, ft_large_a_1]\n",
    "use_ground_truth = ground_truth_1\n",
    "wer_ft_a = np.zeros((np.size(use_ground_truth),4))\n",
    "iteration = 0\n",
    "for m in dataInput:\n",
    "    line_no = 0\n",
    "    cer_scores = []\n",
    "    wer_scores = []\n",
    "    for line in m:\n",
    "        reference = use_ground_truth[line_no]\n",
    "        hypothesis = line\n",
    "        char_error = cer(reference, hypothesis)\n",
    "        word_error = wer(reference, hypothesis)\n",
    "        cer_scores.append(char_error)\n",
    "        wer_scores.append(word_error)\n",
    "        line_no += 1\n",
    "    wer_ft_a[:,iteration] = wer_scores\n",
    "    iteration += 1"
   ]
  },
  {
   "cell_type": "code",
   "execution_count": 20,
   "id": "4deea227-7840-4b59-bfbb-514287fcca20",
   "metadata": {},
   "outputs": [],
   "source": [
    "wer_ft = np.zeros((125,8))\n",
    "wer_ft[:,0] = wer_ft_a[:,0]\n",
    "wer_ft[:,1] = wer_ft_n[:,0]\n",
    "wer_ft[:,2] = wer_ft_a[:,1]\n",
    "wer_ft[:,3] = wer_ft_n[:,1]\n",
    "wer_ft[:,4] = wer_ft_a[:,2]\n",
    "wer_ft[:,5] = wer_ft_n[:,2]\n",
    "wer_ft[:,6] = wer_ft_a[:,3]\n",
    "wer_ft[:,7] = wer_ft_n[:,3]"
   ]
  },
  {
   "cell_type": "code",
   "execution_count": 21,
   "id": "407ca113",
   "metadata": {},
   "outputs": [],
   "source": [
    "import pandas as pd"
   ]
  },
  {
   "cell_type": "code",
   "execution_count": 23,
   "id": "76fe23a7",
   "metadata": {},
   "outputs": [
    {
     "data": {
      "text/html": [
       "<div>\n",
       "<style scoped>\n",
       "    .dataframe tbody tr th:only-of-type {\n",
       "        vertical-align: middle;\n",
       "    }\n",
       "\n",
       "    .dataframe tbody tr th {\n",
       "        vertical-align: top;\n",
       "    }\n",
       "\n",
       "    .dataframe thead th {\n",
       "        text-align: right;\n",
       "    }\n",
       "</style>\n",
       "<table border=\"1\" class=\"dataframe\">\n",
       "  <thead>\n",
       "    <tr style=\"text-align: right;\">\n",
       "      <th></th>\n",
       "      <th>0</th>\n",
       "      <th>1</th>\n",
       "      <th>2</th>\n",
       "      <th>3</th>\n",
       "      <th>4</th>\n",
       "      <th>5</th>\n",
       "      <th>6</th>\n",
       "      <th>7</th>\n",
       "    </tr>\n",
       "  </thead>\n",
       "  <tbody>\n",
       "    <tr>\n",
       "      <th>0</th>\n",
       "      <td>0.571429</td>\n",
       "      <td>0.857143</td>\n",
       "      <td>0.285714</td>\n",
       "      <td>0.714286</td>\n",
       "      <td>0.285714</td>\n",
       "      <td>0.571429</td>\n",
       "      <td>0.571429</td>\n",
       "      <td>0.571429</td>\n",
       "    </tr>\n",
       "    <tr>\n",
       "      <th>1</th>\n",
       "      <td>0.419355</td>\n",
       "      <td>0.258065</td>\n",
       "      <td>0.225806</td>\n",
       "      <td>0.354839</td>\n",
       "      <td>0.193548</td>\n",
       "      <td>0.225806</td>\n",
       "      <td>0.258065</td>\n",
       "      <td>0.225806</td>\n",
       "    </tr>\n",
       "    <tr>\n",
       "      <th>2</th>\n",
       "      <td>0.520000</td>\n",
       "      <td>0.200000</td>\n",
       "      <td>0.480000</td>\n",
       "      <td>0.200000</td>\n",
       "      <td>0.360000</td>\n",
       "      <td>0.160000</td>\n",
       "      <td>0.280000</td>\n",
       "      <td>0.200000</td>\n",
       "    </tr>\n",
       "    <tr>\n",
       "      <th>3</th>\n",
       "      <td>0.272727</td>\n",
       "      <td>0.636364</td>\n",
       "      <td>0.363636</td>\n",
       "      <td>0.272727</td>\n",
       "      <td>0.272727</td>\n",
       "      <td>0.545455</td>\n",
       "      <td>0.272727</td>\n",
       "      <td>0.454545</td>\n",
       "    </tr>\n",
       "    <tr>\n",
       "      <th>4</th>\n",
       "      <td>0.142857</td>\n",
       "      <td>0.285714</td>\n",
       "      <td>0.214286</td>\n",
       "      <td>0.357143</td>\n",
       "      <td>0.142857</td>\n",
       "      <td>0.214286</td>\n",
       "      <td>0.285714</td>\n",
       "      <td>0.142857</td>\n",
       "    </tr>\n",
       "    <tr>\n",
       "      <th>...</th>\n",
       "      <td>...</td>\n",
       "      <td>...</td>\n",
       "      <td>...</td>\n",
       "      <td>...</td>\n",
       "      <td>...</td>\n",
       "      <td>...</td>\n",
       "      <td>...</td>\n",
       "      <td>...</td>\n",
       "    </tr>\n",
       "    <tr>\n",
       "      <th>120</th>\n",
       "      <td>0.666667</td>\n",
       "      <td>1.000000</td>\n",
       "      <td>0.666667</td>\n",
       "      <td>0.666667</td>\n",
       "      <td>0.666667</td>\n",
       "      <td>0.666667</td>\n",
       "      <td>0.666667</td>\n",
       "      <td>0.666667</td>\n",
       "    </tr>\n",
       "    <tr>\n",
       "      <th>121</th>\n",
       "      <td>0.370370</td>\n",
       "      <td>0.296296</td>\n",
       "      <td>0.296296</td>\n",
       "      <td>0.148148</td>\n",
       "      <td>0.148148</td>\n",
       "      <td>0.111111</td>\n",
       "      <td>0.185185</td>\n",
       "      <td>0.148148</td>\n",
       "    </tr>\n",
       "    <tr>\n",
       "      <th>122</th>\n",
       "      <td>0.363636</td>\n",
       "      <td>0.500000</td>\n",
       "      <td>0.500000</td>\n",
       "      <td>0.409091</td>\n",
       "      <td>0.318182</td>\n",
       "      <td>0.363636</td>\n",
       "      <td>0.454545</td>\n",
       "      <td>0.454545</td>\n",
       "    </tr>\n",
       "    <tr>\n",
       "      <th>123</th>\n",
       "      <td>0.454545</td>\n",
       "      <td>0.363636</td>\n",
       "      <td>0.181818</td>\n",
       "      <td>0.181818</td>\n",
       "      <td>0.181818</td>\n",
       "      <td>0.227273</td>\n",
       "      <td>0.181818</td>\n",
       "      <td>0.227273</td>\n",
       "    </tr>\n",
       "    <tr>\n",
       "      <th>124</th>\n",
       "      <td>0.705882</td>\n",
       "      <td>0.411765</td>\n",
       "      <td>0.294118</td>\n",
       "      <td>0.294118</td>\n",
       "      <td>0.352941</td>\n",
       "      <td>0.235294</td>\n",
       "      <td>0.235294</td>\n",
       "      <td>0.235294</td>\n",
       "    </tr>\n",
       "  </tbody>\n",
       "</table>\n",
       "<p>125 rows × 8 columns</p>\n",
       "</div>"
      ],
      "text/plain": [
       "            0         1         2         3         4         5         6  \\\n",
       "0    0.571429  0.857143  0.285714  0.714286  0.285714  0.571429  0.571429   \n",
       "1    0.419355  0.258065  0.225806  0.354839  0.193548  0.225806  0.258065   \n",
       "2    0.520000  0.200000  0.480000  0.200000  0.360000  0.160000  0.280000   \n",
       "3    0.272727  0.636364  0.363636  0.272727  0.272727  0.545455  0.272727   \n",
       "4    0.142857  0.285714  0.214286  0.357143  0.142857  0.214286  0.285714   \n",
       "..        ...       ...       ...       ...       ...       ...       ...   \n",
       "120  0.666667  1.000000  0.666667  0.666667  0.666667  0.666667  0.666667   \n",
       "121  0.370370  0.296296  0.296296  0.148148  0.148148  0.111111  0.185185   \n",
       "122  0.363636  0.500000  0.500000  0.409091  0.318182  0.363636  0.454545   \n",
       "123  0.454545  0.363636  0.181818  0.181818  0.181818  0.227273  0.181818   \n",
       "124  0.705882  0.411765  0.294118  0.294118  0.352941  0.235294  0.235294   \n",
       "\n",
       "            7  \n",
       "0    0.571429  \n",
       "1    0.225806  \n",
       "2    0.200000  \n",
       "3    0.454545  \n",
       "4    0.142857  \n",
       "..        ...  \n",
       "120  0.666667  \n",
       "121  0.148148  \n",
       "122  0.454545  \n",
       "123  0.227273  \n",
       "124  0.235294  \n",
       "\n",
       "[125 rows x 8 columns]"
      ]
     },
     "metadata": {},
     "output_type": "display_data"
    }
   ],
   "source": [
    "wer_ft_DF = pd.DataFrame(wer_ft)\n",
    "display(wer_ft_DF)"
   ]
  },
  {
   "cell_type": "code",
   "execution_count": 25,
   "id": "d03b80df-f37d-4185-b42f-33cea3dec09d",
   "metadata": {},
   "outputs": [
    {
     "data": {
      "text/plain": [
       "(0.0, 1.5)"
      ]
     },
     "execution_count": 25,
     "metadata": {},
     "output_type": "execute_result"
    },
    {
     "data": {
      "image/png": "[encoded data removed]",
      "text/plain": [
       "<Figure size 432x288 with 1 Axes>"
      ]
     },
     "metadata": {
      "needs_background": "light"
     },
     "output_type": "display_data"
    }
   ],
   "source": [
    "plt.boxplot(wer_ft, notch = True, labels = [\"NA-D base\", \"ND base\", \"NA-D small\", \"ND small\", \n",
    "                   \"NA-D medium\", \"ND medium\", \"NA-D large\", \"ND large\"])\n",
    "plt.xticks(rotation=30)\n",
    "plt.ylim((0,1.5))"
   ]
  },
  {
   "cell_type": "code",
   "execution_count": 36,
   "id": "88e9f07a-ee6d-4a75-a6b9-4926593abc8c",
   "metadata": {},
   "outputs": [
    {
     "data": {
      "text/plain": [
       "Text(0, 0.5, 'Mean Word Error Rate')"
      ]
     },
     "execution_count": 36,
     "metadata": {},
     "output_type": "execute_result"
    },
    {
     "data": {
      "image/png": "[encoded data removed]",
      "text/plain": [
       "<Figure size 432x288 with 1 Axes>"
      ]
     },
     "metadata": {
      "needs_background": "light"
     },
     "output_type": "display_data"
    }
   ],
   "source": [
    "plt.plot([\"non-native\", \"native\"], np.mean(allOutput[:,(0,1)],axis=0), 'k.', label=\"Baseline Base\")\n",
    "plt.plot([\"non-native\", \"native\"], np.mean(allOutput[:,(2,3)],axis=0), 'r.', label=\"Baseline Small\")\n",
    "plt.plot([\"non-native\", \"native\"], np.mean(allOutput[:,(4,5)],axis=0), 'b.', label=\"Baseline Medium\")\n",
    "plt.plot([\"non-native\", \"native\"], np.mean(allOutput[:,(6,7)],axis=0), 'g.', label=\"Baseline Large\")\n",
    "plt.errorbar([\"non-native\", \"native\"], np.mean(allOutput[:,(0,1)],axis=0), \n",
    "             yerr = norm.ppf(0.975)*np.std(allOutput[:,(0,1)], axis=0)/np.sqrt(np.shape(allOutput)[0]),\n",
    "            fmt='none', capsize=4, ecolor = 'k')\n",
    "plt.errorbar([\"non-native\", \"native\"], np.mean(allOutput[:,(2,3)],axis=0), \n",
    "             yerr = norm.ppf(0.975)*np.std(allOutput[:,(2,3)], axis=0)/np.sqrt(np.shape(allOutput)[0]),\n",
    "            fmt='none', capsize=4, ecolor = 'r')\n",
    "plt.errorbar([\"non-native\", \"native\"], np.mean(allOutput[:,(4,5)],axis=0), \n",
    "             yerr = norm.ppf(0.975)*np.std(allOutput[:,(4,5)], axis=0)/np.sqrt(np.shape(allOutput)[0]),\n",
    "            fmt='none', capsize=4, ecolor = 'b')\n",
    "plt.errorbar([\"non-native\", \"native\"], np.mean(allOutput[:,(6,7)],axis=0), \n",
    "             yerr = norm.ppf(0.975)*np.std(allOutput[:,(6,7)], axis=0)/np.sqrt(np.shape(allOutput)[0]),\n",
    "            fmt='none', capsize=4, ecolor = 'g')\n",
    "plt.legend(loc='upper right', bbox_to_anchor=(1.35, 0.62))\n",
    "plt.ylabel(\"Mean Word Error Rate\")"
   ]
  },
  {
   "cell_type": "code",
   "execution_count": 68,
   "id": "6f55130e-5f09-489a-8839-e29a87c256a2",
   "metadata": {},
   "outputs": [
    {
     "name": "stdout",
     "output_type": "stream",
     "text": [
      "Mean WER bl_n: [0.48903422 0.33067558 0.25264764 0.23014446]\n",
      "std. error for mean WER bl_n: [0.0242624  0.01527122 0.01489453 0.01710034]\n",
      "Mean WER bl_a: [0.5597436  0.44770102 0.36923295 0.3350199 ]\n",
      "std. error for mean WER bl_a: [0.01455746 0.0152946  0.01366089 0.01262903]\n"
     ]
    },
    {
     "data": {
      "image/png": "[encoded data removed]",
      "text/plain": [
       "<Figure size 432x288 with 1 Axes>"
      ]
     },
     "metadata": {
      "needs_background": "light"
     },
     "output_type": "display_data"
    }
   ],
   "source": [
    "# Comp 1: Baseline native vs accented\n",
    "plt.plot([\"base\", \"small\", \"medium\", \"large\"], np.mean(wer_bl_n,axis=0), 'r.', label=\"Native\")\n",
    "plt.plot([\"base\", \"small\", \"medium\", \"large\"], np.mean(wer_bl_a,axis=0), 'b.', label=\"Foreign-accented\")\n",
    "plt.errorbar([\"base\", \"small\", \"medium\", \"large\"], np.mean(wer_bl_n,axis=0), \n",
    "             yerr = norm.ppf(0.975)*np.std(wer_bl_n, axis=0)/np.sqrt(np.shape(wer_bl_n)[0]),\n",
    "            fmt='none', capsize=4, ecolor = 'r')\n",
    "plt.errorbar([\"base\", \"small\", \"medium\", \"large\"], np.mean(wer_bl_a,axis=0), \n",
    "             yerr = norm.ppf(0.975)*np.std(wer_bl_a, axis=0)/np.sqrt(np.shape(wer_bl_a)[0]),\n",
    "            fmt='none', capsize=4, ecolor = 'b')\n",
    "plt.legend(loc='upper right')\n",
    "plt.ylabel(\"Mean Word Error Rate\")\n",
    "\n",
    "se_bl_n = np.std(wer_bl_n, axis=0)/np.sqrt(np.shape(wer_bl_n)[0])\n",
    "se_bl_a = np.std(wer_bl_a, axis=0)/np.sqrt(np.shape(wer_bl_a)[0])\n",
    "print(f\"Mean WER bl_n: {np.mean(wer_bl_n,axis=0)}\")\n",
    "print(f\"std. error for mean WER bl_n: {se_bl_n}\")\n",
    "print(f\"Mean WER bl_a: {np.mean(wer_bl_a,axis=0)}\")\n",
    "print(f\"std. error for mean WER bl_a: {se_bl_a}\")"
   ]
  },
  {
   "cell_type": "code",
   "execution_count": 69,
   "id": "7b07aa4d",
   "metadata": {},
   "outputs": [
    {
     "name": "stdout",
     "output_type": "stream",
     "text": [
      "Mean WER ft_n: [0.52335586 0.39014325 0.30250606 0.29831266]\n",
      "std. error for mean WER ft_n: [0.01496763 0.01462143 0.01278067 0.01882918]\n",
      "Mean WER ft_a: [0.47286633 0.30048934 0.3226239  0.30832389]\n",
      "std. error for mean WER ft_a: [0.0131142  0.01345463 0.01326661 0.01170245]\n"
     ]
    },
    {
     "data": {
      "image/png": "[encoded data removed]",
      "text/plain": [
       "<Figure size 432x288 with 1 Axes>"
      ]
     },
     "metadata": {
      "needs_background": "light"
     },
     "output_type": "display_data"
    }
   ],
   "source": [
    "# Comp 2: Fine-tuned native vs accented\n",
    "plt.plot([\"base\", \"small\", \"medium\", \"large\"], np.mean(wer_ft_n,axis=0), 'r.', label=\"Native\")\n",
    "plt.plot([\"base\", \"small\", \"medium\", \"large\"], np.mean(wer_ft_a,axis=0), 'b.', label=\"Foreign-accented\")\n",
    "plt.errorbar([\"base\", \"small\", \"medium\", \"large\"], np.mean(wer_ft_n,axis=0), \n",
    "             yerr = norm.ppf(0.975)*np.std(wer_ft_n, axis=0)/np.sqrt(np.shape(wer_ft_n)[0]),\n",
    "            fmt='none', capsize=4, ecolor = 'r')\n",
    "plt.errorbar([\"base\", \"small\", \"medium\", \"large\"], np.mean(wer_ft_a,axis=0), \n",
    "             yerr = norm.ppf(0.975)*np.std(wer_ft_a, axis=0)/np.sqrt(np.shape(wer_ft_a)[0]),\n",
    "            fmt='none', capsize=4, ecolor = 'b')\n",
    "plt.legend(loc='upper right')\n",
    "plt.ylabel(\"Mean Word Error Rate\")\n",
    "\n",
    "print(f\"Mean WER ft_n: {np.mean(wer_ft_n,axis=0)}\")\n",
    "print(f\"std. error for mean WER ft_n: {np.std(wer_ft_n, axis=0)/np.sqrt(np.shape(wer_ft_n)[0])}\")\n",
    "print(f\"Mean WER ft_a: {np.mean(wer_ft_a,axis=0)}\")\n",
    "print(f\"std. error for mean WER ft_a: {np.std(wer_ft_a, axis=0)/np.sqrt(np.shape(wer_ft_a)[0])}\")"
   ]
  },
  {
   "cell_type": "code",
   "execution_count": 72,
   "id": "06bbb452",
   "metadata": {},
   "outputs": [
    {
     "name": "stdout",
     "output_type": "stream",
     "text": [
      "Mean WER bl_a: [0.5597436  0.44770102 0.36923295 0.3350199 ]\n",
      "std. error for mean WER bl_a: [0.01455746 0.0152946  0.01366089 0.01262903]\n",
      "Mean WER ft_a: [0.47286633 0.30048934 0.3226239  0.30832389]\n",
      "std. error for mean WER ft_a: [0.0131142  0.01345463 0.01326661 0.01170245]\n"
     ]
    },
    {
     "data": {
      "image/png": "[encoded data removed]",
      "text/plain": [
       "<Figure size 432x288 with 1 Axes>"
      ]
     },
     "metadata": {
      "needs_background": "light"
     },
     "output_type": "display_data"
    }
   ],
   "source": [
    "# Comp 3: Baseline accented vs fine-tuned accented\n",
    "plt.plot([\"base\", \"small\", \"medium\", \"large\"], np.mean(wer_bl_a,axis=0), 'r.', label=\"Out-of-the-box\")\n",
    "plt.plot([\"base\", \"small\", \"medium\", \"large\"], np.mean(wer_ft_a,axis=0), 'b.', label=\"Fine-tuned\")\n",
    "plt.errorbar([\"base\", \"small\", \"medium\", \"large\"], np.mean(wer_bl_a,axis=0), \n",
    "             yerr = norm.ppf(0.975)*np.std(wer_bl_a, axis=0)/np.sqrt(np.shape(wer_bl_a)[0]),\n",
    "            fmt='none', capsize=4, ecolor = 'r')\n",
    "plt.errorbar([\"base\", \"small\", \"medium\", \"large\"], np.mean(wer_ft_a,axis=0), \n",
    "             yerr = norm.ppf(0.975)*np.std(wer_ft_a, axis=0)/np.sqrt(np.shape(wer_ft_a)[0]),\n",
    "            fmt='none', capsize=4, ecolor = 'b')\n",
    "plt.legend(loc='upper right')\n",
    "plt.ylabel(\"Mean Word Error Rate\")\n",
    "\n",
    "print(f\"Mean WER bl_a: {np.mean(wer_bl_a,axis=0)}\")\n",
    "print(f\"std. error for mean WER bl_a: {np.std(wer_bl_a, axis=0)/np.sqrt(np.shape(wer_bl_a)[0])}\")\n",
    "print(f\"Mean WER ft_a: {np.mean(wer_ft_a,axis=0)}\")\n",
    "print(f\"std. error for mean WER ft_a: {np.std(wer_ft_a, axis=0)/np.sqrt(np.shape(wer_ft_a)[0])}\")"
   ]
  },
  {
   "cell_type": "code",
   "execution_count": 73,
   "id": "bf851b2c",
   "metadata": {},
   "outputs": [
    {
     "name": "stdout",
     "output_type": "stream",
     "text": [
      "mean WER of bl_n: [0.48903422 0.33067558 0.25264764 0.23014446]\n",
      "Standar error of mean WER of bl_n: [0.0242624  0.01527122 0.01489453 0.01710034]\n",
      "mean WER of ft_n: [0.52335586 0.39014325 0.30250606 0.29831266]\n",
      "Standar error of mean WER of ft_n: [0.01496763 0.01462143 0.01278067 0.01882918]\n"
     ]
    },
    {
     "data": {
      "image/png": "[encoded data removed]",
      "text/plain": [
       "<Figure size 432x288 with 1 Axes>"
      ]
     },
     "metadata": {
      "needs_background": "light"
     },
     "output_type": "display_data"
    }
   ],
   "source": [
    "# Comp 3: Baseline native vs fine-tuned native\n",
    "plt.plot([\"base\", \"small\", \"medium\", \"large\"], np.mean(wer_bl_n,axis=0), 'r.', label=\"Out-of-the-box\")\n",
    "plt.plot([\"base\", \"small\", \"medium\", \"large\"], np.mean(wer_ft_n,axis=0), 'b.', label=\"Fine-tuned\")\n",
    "plt.errorbar([\"base\", \"small\", \"medium\", \"large\"], np.mean(wer_bl_n,axis=0), \n",
    "             yerr = norm.ppf(0.975)*np.std(wer_bl_n, axis=0)/np.sqrt(np.shape(wer_bl_n)[0]),\n",
    "            fmt='none', capsize=4, ecolor = 'r')\n",
    "plt.errorbar([\"base\", \"small\", \"medium\", \"large\"], np.mean(wer_ft_n,axis=0), \n",
    "             yerr = norm.ppf(0.975)*np.std(wer_ft_n, axis=0)/np.sqrt(np.shape(wer_ft_n)[0]),\n",
    "            fmt='none', capsize=4, ecolor = 'b')\n",
    "plt.legend(loc='upper right')\n",
    "plt.ylabel(\"Mean Word Error Rate\")\n",
    "\n",
    "print(f\"mean WER of bl_n: {np.mean(wer_bl_n,axis=0)}\")\n",
    "print(f\"Standar error of mean WER of bl_n: {np.std(wer_bl_n, axis=0)/np.sqrt(np.shape(wer_bl_n)[0])}\")\n",
    "print(f\"mean WER of ft_n: {np.mean(wer_ft_n,axis=0)}\")\n",
    "print(f\"Standar error of mean WER of ft_n: {np.std(wer_ft_n, axis=0)/np.sqrt(np.shape(wer_ft_n)[0])}\")"
   ]
  },
  {
   "cell_type": "code",
   "execution_count": 38,
   "id": "88d10b74",
   "metadata": {},
   "outputs": [
    {
     "name": "stdout",
     "output_type": "stream",
     "text": [
      "Testing model: Baseline Base\n",
      "1a (t-test, same var):       pvalue = 0.99393634\n",
      "1b (t-test, different var):  pvalue = 0.99393091\n",
      "2 (paired t-test):           pvalue = 0.99957612\n",
      "3 (Wilcoxon SR test):        pvalue = 0.99961204\n",
      "4 (MW U-test):               pvalue = 0.99545258\n",
      "-------------------------------------------------\n",
      "Testing model: Baseline Small\n",
      "1a (t-test, same var):       pvalue = 0.99999463\n",
      "1b (t-test, different var):  pvalue = 0.99999462\n",
      "2 (paired t-test):           pvalue = 0.99999999\n",
      "3 (Wilcoxon SR test):        pvalue = 0.99999997\n",
      "4 (MW U-test):               pvalue = 0.99999877\n",
      "-------------------------------------------------\n",
      "Testing model: Baseline Medium\n",
      "1a (t-test, same var):       pvalue = 0.13888893\n",
      "1b (t-test, different var):  pvalue = 0.13888967\n",
      "2 (paired t-test):           pvalue = 0.05208048\n",
      "3 (Wilcoxon SR test):        pvalue = 0.01376637\n",
      "4 (MW U-test):               pvalue = 0.09124355\n",
      "-------------------------------------------------\n",
      "Testing model: Baseline Large\n",
      "1a (t-test, same var):       pvalue = 0.32663549\n",
      "1b (t-test, different var):  pvalue = 0.32667397\n",
      "2 (paired t-test):           pvalue = 0.26740956\n",
      "3 (Wilcoxon SR test):        pvalue = 0.02020916\n",
      "4 (MW U-test):               pvalue = 0.08645118\n",
      "-------------------------------------------------\n"
     ]
    }
   ],
   "source": [
    "model_names = [\"Baseline Base\", \"Baseline Small\", \"Baseline Medium\", \"Baseline Large\"]\n",
    "\n",
    "for i in range(4):\n",
    "    print(\"Testing model: \" + model_names[i])\n",
    "    x = output[:,i]\n",
    "    y = output_n[:,i]\n",
    "    # variation 1: use t-test (valid for unpaired, independent samples) \n",
    "    # see https://en.wikipedia.org/wiki/Student%27s_t-test#Two-sample_t-tests\n",
    "    # note: in our samples, this assumption is broken since the WERs are calculated on the same underlying text, so these samples are not independent\n",
    "    print(\"1a (t-test, same var):       pvalue = \" + np.array2string(ttest_ind(x, y, equal_var=True, alternative=\"greater\").pvalue))\n",
    "    # variation 1b: do not assume same variance (Welch's t-test, unpaired, independent sample)\n",
    "    print(\"1b (t-test, different var):  pvalue = \" + np.array2string(ttest_ind(x, y, equal_var=False, alternative=\"greater\").pvalue))\n",
    "    # variation 2: use paired t-test\n",
    "    # see https://en.wikipedia.org/wiki/Student%27s_t-test#Paired_samples\n",
    "    print(\"2 (paired t-test):           pvalue = \" + np.array2string(ttest_rel(x, y, alternative=\"greater\").pvalue))\n",
    "    # variation 3: use Wilcoxon signed-rank test (non-parametric, so more robust -> fewer assumptions needed)\n",
    "    # see https://en.wikipedia.org/wiki/Wilcoxon_signed-rank_test\n",
    "    d = np.around(x - y, decimals=3)\n",
    "    print(\"3 (Wilcoxon SR test):        pvalue = \" + np.array2string(wilcoxon(d, alternative=\"greater\").pvalue))\n",
    "    # variation 4: use Mann-Whitney U-test (non-parametric, indep samples, so more robust -> fewer assumptions needed)\n",
    "    # see https://en.wikipedia.org/wiki/Mann%E2%80%93Whitney_U_test\n",
    "    print(\"4 (MW U-test):               pvalue = \" + np.array2string(mannwhitneyu(x, y, alternative=\"greater\").pvalue))\n",
    "    print(\"-------------------------------------------------\")"
   ]
  },
  {
   "cell_type": "code",
   "execution_count": null,
   "id": "e4cdd8a9",
   "metadata": {},
   "outputs": [],
   "source": [
    "plt.plot([\"base\", \"small\", \"medium\", \"large\"], np.mean(allOutput[:,(0,2,4,6)],axis=0), 'b.', label=\"Foreign-accented\")\n",
    "plt.plot([\"base\", \"small\", \"medium\", \"large\"], np.mean(allOutput[:,(1,3,5,7)],axis=0), 'r.', label=\"Native\")\n",
    "plt.errorbar([\"base\", \"small\", \"medium\", \"large\"], np.mean(allOutput[:,(0,2,4,6)],axis=0), \n",
    "             yerr = norm.ppf(0.975)*np.std(allOutput[:,(0,2,4,6)], axis=0)/np.sqrt(np.shape(allOutput)[0]),\n",
    "            fmt='none', capsize=4, ecolor = 'b')\n",
    "plt.errorbar([\"base\", \"small\", \"medium\", \"large\"], np.mean(allOutput[:,(1,3,5,7)],axis=0), \n",
    "             yerr = norm.ppf(0.975)*np.std(allOutput[:,(1,3,5,7)], axis=0)/np.sqrt(np.shape(allOutput)[0]),\n",
    "            fmt='none', capsize=4, ecolor = 'r')\n",
    "plt.legend(loc='upper right')\n",
    "plt.ylabel(\"Mean Word Error Rate\")"
   ]
  },
  {
   "cell_type": "code",
   "execution_count": 54,
   "id": "394505e1",
   "metadata": {},
   "outputs": [
    {
     "name": "stdout",
     "output_type": "stream",
     "text": [
      "Testing model: Baseline Base\n",
      "1a (t-test, same var):       pvalue = 0.01346601\n",
      "1b (t-test, different var):  pvalue = 0.01361308\n",
      "2 (paired t-test):           pvalue = 0.01429146\n",
      "3 (Wilcoxon SR test):        pvalue = 0.00015539\n",
      "4 (MW U-test):               pvalue = 0.00013032\n",
      "-------------------------------------------------\n",
      "Testing model: Baseline Small\n",
      "1a (t-test, same var):       pvalue = 1.61636011e-07\n",
      "1b (t-test, different var):  pvalue = 1.61636309e-07\n",
      "2 (paired t-test):           pvalue = 1.59161894e-06\n",
      "3 (Wilcoxon SR test):        pvalue = 5.65670122e-08\n",
      "4 (MW U-test):               pvalue = 1.41631309e-09\n",
      "-------------------------------------------------\n",
      "Testing model: Baseline Medium\n",
      "1a (t-test, same var):       pvalue = 2.67714752e-08\n",
      "1b (t-test, different var):  pvalue = 2.69686065e-08\n",
      "2 (paired t-test):           pvalue = 7.29989317e-07\n",
      "3 (Wilcoxon SR test):        pvalue = 3.57259113e-10\n",
      "4 (MW U-test):               pvalue = 6.33238639e-12\n",
      "-------------------------------------------------\n",
      "Testing model: Baseline Large\n",
      "1a (t-test, same var):       pvalue = 1.62549022e-06\n",
      "1b (t-test, different var):  pvalue = 1.70614172e-06\n",
      "2 (paired t-test):           pvalue = 7.52451623e-06\n",
      "3 (Wilcoxon SR test):        pvalue = 4.76191866e-10\n",
      "4 (MW U-test):               pvalue = 4.54218922e-12\n",
      "-------------------------------------------------\n"
     ]
    }
   ],
   "source": [
    "# Comp 1: bl_n vs bl_a \n",
    "# Is the WER significantly different between native and accented speech in the baseline models?\n",
    "# NOTE: paired test not possible here\n",
    "model_names = [\"Baseline Base\", \"Baseline Small\", \"Baseline Medium\", \"Baseline Large\"]\n",
    "\n",
    "for i in range(4):\n",
    "    print(\"Testing model: \" + model_names[i])\n",
    "    x = wer_bl_n[:,i]\n",
    "    y = wer_bl_a[:,i]\n",
    "    # variation 1: use t-test (valid for unpaired, independent samples) \n",
    "    # see https://en.wikipedia.org/wiki/Student%27s_t-test#Two-sample_t-tests\n",
    "    # note: in our samples, this assumption is broken since the WERs are calculated on the same underlying text, so these samples are not independent\n",
    "    print(\"1a (t-test, same var):       pvalue = \" + np.array2string(ttest_ind(x, y, equal_var=True, alternative=\"two-sided\").pvalue))\n",
    "    # variation 1b: do not assume same variance (Welch's t-test, unpaired, independent sample)\n",
    "    print(\"1b (t-test, different var):  pvalue = \" + np.array2string(ttest_ind(x, y, equal_var=False, alternative=\"two-sided\").pvalue))\n",
    "    # variation 2: use paired t-test\n",
    "    # see https://en.wikipedia.org/wiki/Student%27s_t-test#Paired_samples\n",
    "    print(\"2 (paired t-test):           pvalue = \" + np.array2string(ttest_rel(x, y, alternative=\"two-sided\").pvalue))\n",
    "    # variation 3: use Wilcoxon signed-rank test (non-parametric, so more robust -> fewer assumptions needed)\n",
    "    # see https://en.wikipedia.org/wiki/Wilcoxon_signed-rank_test\n",
    "    d = np.around(x - y, decimals=3)\n",
    "    print(\"3 (Wilcoxon SR test):        pvalue = \" + np.array2string(wilcoxon(d, alternative=\"two-sided\").pvalue))\n",
    "    # variation 4: use Mann-Whitney U-test (non-parametric, indep samples, so more robust -> fewer assumptions needed)\n",
    "    # see https://en.wikipedia.org/wiki/Mann%E2%80%93Whitney_U_test\n",
    "    print(\"4 (MW U-test):               pvalue = \" + np.array2string(mannwhitneyu(x, y, alternative=\"two-sided\").pvalue))\n",
    "    print(\"-------------------------------------------------\")"
   ]
  },
  {
   "cell_type": "code",
   "execution_count": 53,
   "id": "30e1e77b",
   "metadata": {},
   "outputs": [
    {
     "name": "stdout",
     "output_type": "stream",
     "text": [
      "Testing model: Fine-Tuned Base\n",
      "1a (t-test, same var):       pvalue = 0.01212731\n",
      "1b (t-test, different var):  pvalue = 0.01213818\n",
      "2 (paired t-test):           pvalue = 0.00084776\n",
      "3 (Wilcoxon SR test):        pvalue = 0.00077592\n",
      "4 (MW U-test):               pvalue = 0.00914144\n",
      "-------------------------------------------------\n",
      "Testing model: Fine-Tuned Small\n",
      "1a (t-test, same var):       pvalue = 1.07314008e-05\n",
      "1b (t-test, different var):  pvalue = 1.07615182e-05\n",
      "2 (paired t-test):           pvalue = 1.10141247e-08\n",
      "3 (Wilcoxon SR test):        pvalue = 5.07964595e-08\n",
      "4 (MW U-test):               pvalue = 2.49017674e-06\n",
      "-------------------------------------------------\n",
      "Testing model: Fine-Tuned Medium\n",
      "1a (t-test, same var):       pvalue = 0.27777787\n",
      "1b (t-test, different var):  pvalue = 0.27777934\n",
      "2 (paired t-test):           pvalue = 0.10416095\n",
      "3 (Wilcoxon SR test):        pvalue = 0.02753274\n",
      "4 (MW U-test):               pvalue = 0.1824871\n",
      "-------------------------------------------------\n",
      "Testing model: Fine-Tuned Large\n",
      "1a (t-test, same var):       pvalue = 0.65327098\n",
      "1b (t-test, different var):  pvalue = 0.65334793\n",
      "2 (paired t-test):           pvalue = 0.53481911\n",
      "3 (Wilcoxon SR test):        pvalue = 0.04041832\n",
      "4 (MW U-test):               pvalue = 0.17290236\n",
      "-------------------------------------------------\n"
     ]
    }
   ],
   "source": [
    "# Comp 2: ft_n vs ft_a \n",
    "# Is the WER significantly different between native and accented speech in the fine-tuned models?\n",
    "# NOTE: paired test possible here\n",
    "model_names = [\"Fine-Tuned Base\", \"Fine-Tuned Small\", \"Fine-Tuned Medium\", \"Fine-Tuned Large\"]\n",
    "\n",
    "for i in range(4):\n",
    "    print(\"Testing model: \" + model_names[i])\n",
    "    x = wer_ft_n[:,i]\n",
    "    y = wer_ft_a[:,i]\n",
    "    # variation 1: use t-test (valid for unpaired, independent samples) \n",
    "    # see https://en.wikipedia.org/wiki/Student%27s_t-test#Two-sample_t-tests\n",
    "    # note: in our samples, this assumption is broken since the WERs are calculated on the same underlying text, so these samples are not independent\n",
    "    print(\"1a (t-test, same var):       pvalue = \" + np.array2string(ttest_ind(x, y, equal_var=True, alternative=\"two-sided\").pvalue))\n",
    "    # variation 1b: do not assume same variance (Welch's t-test, unpaired, independent sample)\n",
    "    print(\"1b (t-test, different var):  pvalue = \" + np.array2string(ttest_ind(x, y, equal_var=False, alternative=\"two-sided\").pvalue))\n",
    "    # variation 2: use paired t-test\n",
    "    # see https://en.wikipedia.org/wiki/Student%27s_t-test#Paired_samples\n",
    "    print(\"2 (paired t-test):           pvalue = \" + np.array2string(ttest_rel(x, y, alternative=\"two-sided\").pvalue))\n",
    "    # variation 3: use Wilcoxon signed-rank test (non-parametric, so more robust -> fewer assumptions needed)\n",
    "    # see https://en.wikipedia.org/wiki/Wilcoxon_signed-rank_test\n",
    "    d = np.around(x - y, decimals=3)\n",
    "    print(\"3 (Wilcoxon SR test):        pvalue = \" + np.array2string(wilcoxon(d, alternative=\"two-sided\").pvalue))\n",
    "    # variation 4: use Mann-Whitney U-test (non-parametric, indep samples, so more robust -> fewer assumptions needed)\n",
    "    # see https://en.wikipedia.org/wiki/Mann%E2%80%93Whitney_U_test\n",
    "    print(\"4 (MW U-test):               pvalue = \" + np.array2string(mannwhitneyu(x, y, alternative=\"two-sided\").pvalue))\n",
    "    print(\"-------------------------------------------------\")"
   ]
  },
  {
   "cell_type": "code",
   "execution_count": 55,
   "id": "727dd316",
   "metadata": {},
   "outputs": [
    {
     "name": "stdout",
     "output_type": "stream",
     "text": [
      "Testing model: Fine-Tuned Base\n",
      "1a (t-test, same var):       pvalue = 1.50072075e-05\n",
      "1b (t-test, different var):  pvalue = 1.50693871e-05\n",
      "2 (paired t-test):           pvalue = 3.44149008e-11\n",
      "3 (Wilcoxon SR test):        pvalue = 7.09654048e-11\n",
      "4 (MW U-test):               pvalue = 2.08611621e-05\n",
      "-------------------------------------------------\n",
      "Testing model: Fine-Tuned Small\n",
      "1a (t-test, same var):       pvalue = 7.26034864e-12\n",
      "1b (t-test, different var):  pvalue = 7.52195708e-12\n",
      "2 (paired t-test):           pvalue = 2.40665952e-22\n",
      "3 (Wilcoxon SR test):        pvalue = 6.4232771e-18\n",
      "4 (MW U-test):               pvalue = 7.23337535e-13\n",
      "-------------------------------------------------\n",
      "Testing model: Fine-Tuned Medium\n",
      "1a (t-test, same var):       pvalue = 0.01548008\n",
      "1b (t-test, different var):  pvalue = 0.01548069\n",
      "2 (paired t-test):           pvalue = 5.43080789e-09\n",
      "3 (Wilcoxon SR test):        pvalue = 6.52994423e-08\n",
      "4 (MW U-test):               pvalue = 0.00699775\n",
      "-------------------------------------------------\n",
      "Testing model: Fine-Tuned Large\n",
      "1a (t-test, same var):       pvalue = 0.12378865\n",
      "1b (t-test, different var):  pvalue = 0.12379602\n",
      "2 (paired t-test):           pvalue = 0.00140322\n",
      "3 (Wilcoxon SR test):        pvalue = 0.00122891\n",
      "4 (MW U-test):               pvalue = 0.1080236\n",
      "-------------------------------------------------\n"
     ]
    }
   ],
   "source": [
    "# Comp 3: bl_a vs ft_a \n",
    "# Is the WER significantly different between the baseline and the fine-tuned models for accented speech?\n",
    "# NOTE: paired test possible here\n",
    "model_names = [\"Fine-Tuned Base\", \"Fine-Tuned Small\", \"Fine-Tuned Medium\", \"Fine-Tuned Large\"]\n",
    "\n",
    "for i in range(4):\n",
    "    print(\"Testing model: \" + model_names[i])\n",
    "    x = wer_bl_a[:,i]\n",
    "    y = wer_ft_a[:,i]\n",
    "    # variation 1: use t-test (valid for unpaired, independent samples) \n",
    "    # see https://en.wikipedia.org/wiki/Student%27s_t-test#Two-sample_t-tests\n",
    "    # note: in our samples, this assumption is broken since the WERs are calculated on the same underlying text, so these samples are not independent\n",
    "    print(\"1a (t-test, same var):       pvalue = \" + np.array2string(ttest_ind(x, y, equal_var=True, alternative=\"two-sided\").pvalue))\n",
    "    # variation 1b: do not assume same variance (Welch's t-test, unpaired, independent sample)\n",
    "    print(\"1b (t-test, different var):  pvalue = \" + np.array2string(ttest_ind(x, y, equal_var=False, alternative=\"two-sided\").pvalue))\n",
    "    # variation 2: use paired t-test\n",
    "    # see https://en.wikipedia.org/wiki/Student%27s_t-test#Paired_samples\n",
    "    print(\"2 (paired t-test):           pvalue = \" + np.array2string(ttest_rel(x, y, alternative=\"two-sided\").pvalue))\n",
    "    # variation 3: use Wilcoxon signed-rank test (non-parametric, so more robust -> fewer assumptions needed)\n",
    "    # see https://en.wikipedia.org/wiki/Wilcoxon_signed-rank_test\n",
    "    d = np.around(x - y, decimals=3)\n",
    "    print(\"3 (Wilcoxon SR test):        pvalue = \" + np.array2string(wilcoxon(d, alternative=\"two-sided\").pvalue))\n",
    "    # variation 4: use Mann-Whitney U-test (non-parametric, indep samples, so more robust -> fewer assumptions needed)\n",
    "    # see https://en.wikipedia.org/wiki/Mann%E2%80%93Whitney_U_test\n",
    "    print(\"4 (MW U-test):               pvalue = \" + np.array2string(mannwhitneyu(x, y, alternative=\"two-sided\").pvalue))\n",
    "    print(\"-------------------------------------------------\")"
   ]
  },
  {
   "cell_type": "code",
   "execution_count": 57,
   "id": "9e4965c5",
   "metadata": {},
   "outputs": [
    {
     "name": "stdout",
     "output_type": "stream",
     "text": [
      "Testing model: Fine-Tuned Base\n",
      "1a (t-test, same var):       pvalue = 0.23162829\n",
      "1b (t-test, different var):  pvalue = 0.23185838\n",
      "2 (paired t-test):           pvalue = 0.22869827\n",
      "3 (Wilcoxon SR test):        pvalue = 0.03121891\n",
      "4 (MW U-test):               pvalue = 0.02471052\n",
      "-------------------------------------------------\n",
      "Testing model: Fine-Tuned Small\n",
      "1a (t-test, same var):       pvalue = 0.00548839\n",
      "1b (t-test, different var):  pvalue = 0.00548916\n",
      "2 (paired t-test):           pvalue = 0.00832591\n",
      "3 (Wilcoxon SR test):        pvalue = 0.00279547\n",
      "4 (MW U-test):               pvalue = 0.00177015\n",
      "-------------------------------------------------\n",
      "Testing model: Fine-Tuned Medium\n",
      "1a (t-test, same var):       pvalue = 0.01201951\n",
      "1b (t-test, different var):  pvalue = 0.01203396\n",
      "2 (paired t-test):           pvalue = 0.01458988\n",
      "3 (Wilcoxon SR test):        pvalue = 0.00123524\n",
      "4 (MW U-test):               pvalue = 0.00135283\n",
      "-------------------------------------------------\n",
      "Testing model: Fine-Tuned Large\n",
      "1a (t-test, same var):       pvalue = 0.00810254\n",
      "1b (t-test, different var):  pvalue = 0.00810723\n",
      "2 (paired t-test):           pvalue = 0.01066494\n",
      "3 (Wilcoxon SR test):        pvalue = 3.84305075e-05\n",
      "4 (MW U-test):               pvalue = 6.94601149e-06\n",
      "-------------------------------------------------\n"
     ]
    }
   ],
   "source": [
    "# Comp 4: bl_n vs ft_n\n",
    "# Is the WER significantly different between the baseline and the fine-tuned models for native speech?\n",
    "# NOTE: paired test possible here\n",
    "model_names = [\"Fine-Tuned Base\", \"Fine-Tuned Small\", \"Fine-Tuned Medium\", \"Fine-Tuned Large\"]\n",
    "\n",
    "for i in range(4):\n",
    "    print(\"Testing model: \" + model_names[i])\n",
    "    x = wer_bl_n[:,i]\n",
    "    y = wer_ft_n[:,i]\n",
    "    # variation 1: use t-test (valid for unpaired, independent samples) \n",
    "    # see https://en.wikipedia.org/wiki/Student%27s_t-test#Two-sample_t-tests\n",
    "    # note: in our samples, this assumption is broken since the WERs are calculated on the same underlying text, so these samples are not independent\n",
    "    print(\"1a (t-test, same var):       pvalue = \" + np.array2string(ttest_ind(x, y, equal_var=True, alternative=\"two-sided\").pvalue))\n",
    "    # variation 1b: do not assume same variance (Welch's t-test, unpaired, independent sample)\n",
    "    print(\"1b (t-test, different var):  pvalue = \" + np.array2string(ttest_ind(x, y, equal_var=False, alternative=\"two-sided\").pvalue))\n",
    "    # variation 2: use paired t-test\n",
    "    # see https://en.wikipedia.org/wiki/Student%27s_t-test#Paired_samples\n",
    "    print(\"2 (paired t-test):           pvalue = \" + np.array2string(ttest_rel(x, y, alternative=\"two-sided\").pvalue))\n",
    "    # variation 3: use Wilcoxon signed-rank test (non-parametric, so more robust -> fewer assumptions needed)\n",
    "    # see https://en.wikipedia.org/wiki/Wilcoxon_signed-rank_test\n",
    "    d = np.around(x - y, decimals=3)\n",
    "    print(\"3 (Wilcoxon SR test):        pvalue = \" + np.array2string(wilcoxon(d, alternative=\"two-sided\").pvalue))\n",
    "    # variation 4: use Mann-Whitney U-test (non-parametric, indep samples, so more robust -> fewer assumptions needed)\n",
    "    # see https://en.wikipedia.org/wiki/Mann%E2%80%93Whitney_U_test\n",
    "    print(\"4 (MW U-test):               pvalue = \" + np.array2string(mannwhitneyu(x, y, alternative=\"two-sided\").pvalue))\n",
    "    print(\"-------------------------------------------------\")"
   ]
  }
 ],
 "metadata": {
  "kernelspec": {
   "display_name": "Python 3 (ipykernel)",
   "language": "python",
   "name": "python3"
  },
  "language_info": {
   "codemirror_mode": {
    "name": "ipython",
    "version": 3
   },
   "file_extension": ".py",
   "mimetype": "text/x-python",
   "name": "python",
   "nbconvert_exporter": "python",
   "pygments_lexer": "ipython3",
   "version": "3.9.12"
  }
 },
 "nbformat": 4,
 "nbformat_minor": 5
}
